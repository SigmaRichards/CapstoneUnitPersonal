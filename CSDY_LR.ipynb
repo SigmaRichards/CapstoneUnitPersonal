{
 "cells": [
  {
   "cell_type": "code",
   "execution_count": 1,
   "metadata": {},
   "outputs": [],
   "source": [
    "import pandas as pd\n",
    "import numpy as np\n",
    "import matplotlib.pyplot as plt"
   ]
  },
  {
   "cell_type": "code",
   "execution_count": 2,
   "metadata": {},
   "outputs": [],
   "source": [
    "def get_sens_spec(y,pred):\n",
    "    tp = np.sum(np.logical_and(y,pred==y))\n",
    "    tn = np.sum(np.logical_and(1-y,pred==y))\n",
    "    fp = np.sum(np.logical_and(pred,pred!=y))\n",
    "    fn = np.sum(np.logical_and(1-pred,pred!=y))\n",
    "    \n",
    "    sens = tp/(tp+fn)\n",
    "    spec = tn/(tn+fp)\n",
    "    acc = (tp+tn)/(tp+tn+fp+fn)\n",
    "    prec = tp/(tp+fp)\n",
    "    return [sens,spec,acc,prec]"
   ]
  },
  {
   "cell_type": "code",
   "execution_count": 3,
   "metadata": {},
   "outputs": [],
   "source": [
    "#####-----    Essentially change this here so that X_raw is a\n",
    "#####-----    numpy array with all WBA frequencies and nothing else\n",
    "#####-----    y is all the overallPoF\n",
    "\n",
    "X_raw = pd.read_csv(\"./Data/OHE_Eth.csv\").iloc[:,1:17].to_numpy()\n",
    "y = pd.read_csv(\"./Data/OHE_Eth.csv\")[\"OverallPoF\"].to_numpy()"
   ]
  },
  {
   "cell_type": "code",
   "execution_count": 4,
   "metadata": {},
   "outputs": [],
   "source": [
    "from scipy.interpolate import CubicSpline\n",
    "x_sp = np.arange(16)\n",
    "\n",
    "cs=CubicSpline(x_sp,X_raw,axis=1)\n",
    "\n",
    "X_in = cs(x_sp,1)\n",
    "X_in2 = cs(x_sp,2)\n",
    "X_in3 = X_in2/((1+X_in**2)**(1.5))"
   ]
  },
  {
   "cell_type": "code",
   "execution_count": 5,
   "metadata": {},
   "outputs": [],
   "source": [
    "from sklearn.model_selection import train_test_split\n",
    "rs = 22\n",
    "tr,t = train_test_split([a for a in range(y.shape[0])],train_size=0.85,random_state=rs)"
   ]
  },
  {
   "cell_type": "code",
   "execution_count": 6,
   "metadata": {},
   "outputs": [],
   "source": [
    "from itertools import combinations\n",
    "def get_perms(size,num):\n",
    "    lis = [a for a in range(size)]\n",
    "    perms = list(combinations(lis,num+1))\n",
    "    out = [a[0] for a in perms]\n",
    "    return perms\n",
    "def get_all_perms(size):\n",
    "    lis = []\n",
    "    for a in range(size):\n",
    "        lis.append(get_perms(size,a))\n",
    "    return lis"
   ]
  },
  {
   "cell_type": "code",
   "execution_count": 7,
   "metadata": {},
   "outputs": [],
   "source": [
    "ps = get_all_perms(17)\n",
    "\n",
    "i1 = [9]\n",
    "\n",
    "inds = ps[3][1701]\n",
    "X = X_in[:,inds]\n",
    "X = np.hstack((X,X_raw[:,i1]))\n",
    "\n",
    "ind = ps[5][12076]\n",
    "X2 = X_in2[:,inds]\n",
    "X2 = np.hstack((X2,X_raw[:,i1]))\n",
    "\n",
    "ind = ps[5][12076]\n",
    "X2 = X_in2[:,inds]\n",
    "X2 = np.hstack((X2,X_raw[:,i1]))\n",
    "\n",
    "ind = ps[6][17432]\n",
    "X3 = X_in3[:,inds]\n",
    "X3 = np.hstack((X3,X_raw[:,i1]))"
   ]
  },
  {
   "cell_type": "code",
   "execution_count": 13,
   "metadata": {},
   "outputs": [
    {
     "name": "stdout",
     "output_type": "stream",
     "text": [
      "CSDY\n",
      "[0.7878787878787878, 0.7588235294117647, 0.7635467980295566, 0.3880597014925373]\n",
      "[0.8, 0.7741935483870968, 0.7777777777777778, 0.36363636363636365]\n"
     ]
    }
   ],
   "source": [
    "from sklearn.linear_model import LogisticRegression\n",
    "from sklearn.metrics import plot_roc_curve\n",
    "\n",
    "clf = LogisticRegression(C=2,class_weight=\"balanced\",\n",
    "                         l1_ratio=0,max_iter=1000,\n",
    "                         penalty='elasticnet',\n",
    "                         solver = 'saga')\n",
    "clf.fit(X[tr],y[tr])\n",
    "print(\"CSDY\")\n",
    "print(get_sens_spec(y[tr],clf.predict(X[tr])))\n",
    "print(get_sens_spec(y[t],clf.predict(X[t])))"
   ]
  },
  {
   "cell_type": "code",
   "execution_count": 9,
   "metadata": {},
   "outputs": [
    {
     "name": "stdout",
     "output_type": "stream",
     "text": [
      "CSDDY\n",
      "[0.696969696969697, 0.7647058823529411, 0.7536945812807881, 0.36507936507936506]\n",
      "[0.6, 0.7741935483870968, 0.75, 0.3]\n"
     ]
    }
   ],
   "source": [
    "from sklearn.linear_model import LogisticRegression\n",
    "from sklearn.metrics import plot_roc_curve\n",
    "\n",
    "clf = LogisticRegression(C=2,class_weight=\"balanced\",\n",
    "                         l1_ratio=0,max_iter=1000,\n",
    "                         penalty='elasticnet',\n",
    "                         solver = 'saga')\n",
    "clf.fit(X2[tr],y[tr])\n",
    "print(\"CSDDY\")\n",
    "print(get_sens_spec(y[tr],clf.predict(X2[tr])))\n",
    "print(get_sens_spec(y[t],clf.predict(X2[t])))"
   ]
  },
  {
   "cell_type": "code",
   "execution_count": 10,
   "metadata": {},
   "outputs": [
    {
     "name": "stdout",
     "output_type": "stream",
     "text": [
      "CSK\n",
      "[0.696969696969697, 0.7529411764705882, 0.7438423645320197, 0.35384615384615387]\n",
      "[0.6, 0.7741935483870968, 0.75, 0.3]\n"
     ]
    }
   ],
   "source": [
    "from sklearn.linear_model import LogisticRegression\n",
    "from sklearn.metrics import plot_roc_curve\n",
    "\n",
    "clf = LogisticRegression(C=2,class_weight=\"balanced\",\n",
    "                         l1_ratio=0,max_iter=1000,\n",
    "                         penalty='elasticnet',\n",
    "                         solver = 'saga')\n",
    "clf.fit(X3[tr],y[tr])\n",
    "print(\"CSK\")\n",
    "print(get_sens_spec(y[tr],clf.predict(X3[tr])))\n",
    "print(get_sens_spec(y[t],clf.predict(X3[t])))"
   ]
  },
  {
   "cell_type": "code",
   "execution_count": 25,
   "metadata": {},
   "outputs": [
    {
     "data": {
      "text/plain": [
       "array([[-1.18259335, -1.78430669,  0.533775  ,  1.93893579, -3.05501997]])"
      ]
     },
     "execution_count": 25,
     "metadata": {},
     "output_type": "execute_result"
    }
   ],
   "source": [
    "clf.coef_"
   ]
  },
  {
   "cell_type": "code",
   "execution_count": 44,
   "metadata": {},
   "outputs": [
    {
     "data": {
      "image/png": "[encoded data removed]",
      "text/plain": [
       "<Figure size 432x288 with 1 Axes>"
      ]
     },
     "metadata": {
      "needs_background": "light"
     },
     "output_type": "display_data"
    }
   ],
   "source": [
    "plt.bar(['630','800','2500','5000'],clf.coef_[0][:-1])\n",
    "plt.plot([-1,4],[0,0],'black')\n",
    "plt.ylim(-3,3)\n",
    "plt.xlim(-1,4)\n",
    "plt.xticks()\n",
    "plt.grid(axis='y')"
   ]
  },
  {
   "cell_type": "code",
   "execution_count": 64,
   "metadata": {},
   "outputs": [],
   "source": [
    "probs = clf.predict_proba(X)[:,1]"
   ]
  },
  {
   "cell_type": "code",
   "execution_count": 67,
   "metadata": {},
   "outputs": [],
   "source": [
    "num_it = len(X)\n",
    "scs = []\n",
    "for a in range(num_it):\n",
    "    for b in range(a+1,num_it):\n",
    "        pd = np.abs(probs[a]-probs[b])\n",
    "        fd = np.abs(X[a,4]-X[b,4])\n",
    "        scs.append([pd,fd,[a,b]])"
   ]
  },
  {
   "cell_type": "code",
   "execution_count": 126,
   "metadata": {},
   "outputs": [
    {
     "data": {
      "text/plain": [
       "(4, 5, 10, 13)"
      ]
     },
     "execution_count": 126,
     "metadata": {},
     "output_type": "execute_result"
    }
   ],
   "source": [
    "inds"
   ]
  },
  {
   "cell_type": "code",
   "execution_count": 160,
   "metadata": {},
   "outputs": [
    {
     "data": {
      "text/plain": [
       "0.0004999999999999449"
      ]
     },
     "execution_count": 160,
     "metadata": {},
     "output_type": "execute_result"
    }
   ],
   "source": [
    "4.999999999999449e-04"
   ]
  },
  {
   "cell_type": "code",
   "execution_count": 157,
   "metadata": {},
   "outputs": [
    {
     "name": "stdout",
     "output_type": "stream",
     "text": [
      "0.6092413981269758 1.0\n",
      "0.4461848594178045 0.0\n"
     ]
    },
    {
     "data": {
      "image/png": "[encoded data removed]",
      "text/plain": [
       "<Figure size 432x288 with 1 Axes>"
      ]
     },
     "metadata": {
      "needs_background": "light"
     },
     "output_type": "display_data"
    }
   ],
   "source": [
    "vs = []\n",
    "for a in range(len(scs)):\n",
    "    v = scs[a][0]/(scs[a][1]+0.0001)\n",
    "    vs.append(v)\n",
    "imp_ind = scs[np.argmax(vs)][2]\n",
    "\n",
    "plt.plot(X_raw[imp_ind[0]])\n",
    "plt.plot(X_raw[imp_ind[1]])\n",
    "\n",
    "plt.plot([4,4],[0,1],'b--',alpha=0.5)\n",
    "plt.plot([5,5],[0,1],'b--',alpha=0.5)\n",
    "plt.plot([10,10],[0,1],'b--',alpha=0.5)\n",
    "plt.plot([13,13],[0,1],'b--',alpha=0.5)\n",
    "\n",
    "plt.ylim(0,1)\n",
    "\n",
    "print(probs[imp_ind[0]],y[imp_ind[0]])\n",
    "print(probs[imp_ind[1]],y[imp_ind[1]])\n",
    "plt.show()"
   ]
  },
  {
   "cell_type": "code",
   "execution_count": 154,
   "metadata": {},
   "outputs": [
    {
     "name": "stdout",
     "output_type": "stream",
     "text": [
      "0.6092413981269758 1.0\n",
      "0.4461848594178045 0.0\n"
     ]
    },
    {
     "data": {
      "image/png": "[encoded data removed]",
      "text/plain": [
       "<Figure size 432x288 with 1 Axes>"
      ]
     },
     "metadata": {
      "needs_background": "light"
     },
     "output_type": "display_data"
    }
   ],
   "source": [
    "plt.plot(X_in[imp_ind[0]])\n",
    "plt.plot(X_in[imp_ind[1]])\n",
    "\n",
    "plt.plot([4,4],[-1,1],'b--',alpha=0.5)\n",
    "plt.plot([5,5],[-1,1],'b--',alpha=0.5)\n",
    "plt.plot([10,10],[-1,1],'b--',alpha=0.5)\n",
    "plt.plot([13,13],[-1,1],'b--',alpha=0.5)\n",
    "\n",
    "plt.ylim(-0.6,0.3)\n",
    "\n",
    "print(probs[imp_ind[0]],y[imp_ind[0]])\n",
    "print(probs[imp_ind[1]],y[imp_ind[1]])\n",
    "plt.show()"
   ]
  },
  {
   "cell_type": "code",
   "execution_count": 125,
   "metadata": {
    "scrolled": true
   },
   "outputs": [
    {
     "data": {
      "text/plain": [
       "(0.5, 0.9)"
      ]
     },
     "execution_count": 125,
     "metadata": {},
     "output_type": "execute_result"
    },
    {
     "data": {
      "image/png": "[encoded data removed]",
      "text/plain": [
       "<Figure size 432x288 with 1 Axes>"
      ]
     },
     "metadata": {
      "needs_background": "light"
     },
     "output_type": "display_data"
    }
   ],
   "source": [
    "data = np.transpose([baseline,method])\n",
    "X = np.arange(2)\n",
    "plt.bar(X + 0.00, data[0], color = 'b', width = 0.4)\n",
    "plt.bar(X + 0.4, data[1], color = 'g', width = 0.4)\n",
    "plt.ylim(0.5,0.9)\n",
    "plt.show()"
   ]
  },
  {
   "cell_type": "code",
   "execution_count": null,
   "metadata": {},
   "outputs": [],
   "source": []
  }
 ],
 "metadata": {
  "kernelspec": {
   "display_name": "Python 3",
   "language": "python",
   "name": "python3"
  },
  "language_info": {
   "codemirror_mode": {
    "name": "ipython",
    "version": 3
   },
   "file_extension": ".py",
   "mimetype": "text/x-python",
   "name": "python",
   "nbconvert_exporter": "python",
   "pygments_lexer": "ipython3",
   "version": "3.8.10"
  }
 },
 "nbformat": 4,
 "nbformat_minor": 4
}
