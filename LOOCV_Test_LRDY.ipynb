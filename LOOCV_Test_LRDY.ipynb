{
 "cells": [
  {
   "cell_type": "code",
   "execution_count": 1,
   "metadata": {},
   "outputs": [],
   "source": [
    "import pandas as pd\n",
    "import numpy as np\n",
    "import matplotlib.pyplot as plt"
   ]
  },
  {
   "cell_type": "code",
   "execution_count": 2,
   "metadata": {},
   "outputs": [],
   "source": [
    "def get_sens_spec(y,pred):\n",
    "    tp = np.sum(np.logical_and(y,pred==y))\n",
    "    tn = np.sum(np.logical_and(1-y,pred==y))\n",
    "    fp = np.sum(np.logical_and(pred,pred!=y))\n",
    "    fn = np.sum(np.logical_and(1-pred,pred!=y))\n",
    "    \n",
    "    sens = tp/(tp+fn)\n",
    "    spec = tn/(tn+fp)\n",
    "    acc = (tp+tn)/(tp+tn+fp+fn)\n",
    "    prec = tp/(tp+fp)\n",
    "    return [sens,spec,acc,prec]"
   ]
  },
  {
   "cell_type": "code",
   "execution_count": 3,
   "metadata": {},
   "outputs": [],
   "source": [
    "X_raw = pd.read_csv(\"./Data/OHE_Eth.csv\").iloc[:,1:17].to_numpy()\n",
    "y = pd.read_csv(\"./Data/OHE_Eth.csv\")[\"OverallPoF\"].to_numpy()"
   ]
  },
  {
   "cell_type": "code",
   "execution_count": 4,
   "metadata": {},
   "outputs": [],
   "source": [
    "f_names = np.array([int(a[1:]) for a in list(pd.read_csv(\"./Data/OHE_Eth.csv\").iloc[:,1:17].columns)])"
   ]
  },
  {
   "cell_type": "code",
   "execution_count": 5,
   "metadata": {},
   "outputs": [],
   "source": [
    "from scipy.interpolate import CubicSpline\n",
    "x_sp = np.arange(0,16)\n",
    "cs=CubicSpline(x_sp,X_raw,axis=1)\n",
    "X_in = cs(x_sp,1)"
   ]
  },
  {
   "cell_type": "code",
   "execution_count": 6,
   "metadata": {},
   "outputs": [],
   "source": [
    "inds = [4, 5, 10, 13]\n",
    "i1 = [9]\n",
    "\n",
    "X = X_in[:,inds]\n",
    "X = np.hstack((X,X_raw[:,i1]))"
   ]
  },
  {
   "cell_type": "code",
   "execution_count": 7,
   "metadata": {},
   "outputs": [],
   "source": [
    "from sklearn.linear_model import LogisticRegression\n",
    "from sklearn.metrics import plot_roc_curve\n",
    "from sklearn.model_selection import train_test_split\n",
    "\n",
    "def check_lr(Xv,yv):\n",
    "    clf = LogisticRegression(C=2,class_weight=\"balanced\",\n",
    "                             l1_ratio=0,max_iter=1000,\n",
    "                             penalty='elasticnet',\n",
    "                             solver = 'saga')\n",
    "    clf.fit(Xv,yv)\n",
    "    score = np.array(get_sens_spec(yv,clf.predict(Xv)))[0:2]\n",
    "    return score,clf\n",
    "\n",
    "def loo_check(X,y):\n",
    "    inds = [a for a in range(len(X))]\n",
    "    preds = []\n",
    "    for a in inds:\n",
    "        inds2 = [v for v in inds if v != a]\n",
    "        X2 = X[inds2]\n",
    "        y2 = y[inds2]\n",
    "        sc,clf = check_lr(X2,y2)\n",
    "        pred = clf.predict(X[a].reshape(1,-1))[0]\n",
    "        preds.append(pred)\n",
    "    preds = np.array(preds)\n",
    "    score = get_sens_spec(y,preds)\n",
    "    score = np.array(score)\n",
    "    return score[0:2]"
   ]
  },
  {
   "cell_type": "code",
   "execution_count": 8,
   "metadata": {},
   "outputs": [],
   "source": [
    "from sklearn.exceptions import ConvergenceWarning\n",
    "import warnings\n",
    "\n",
    "warnings.filterwarnings(\"ignore\",category=RuntimeWarning)\n",
    "warnings.filterwarnings(\"ignore\",category=ConvergenceWarning)"
   ]
  },
  {
   "cell_type": "code",
   "execution_count": 9,
   "metadata": {},
   "outputs": [
    {
     "name": "stdout",
     "output_type": "stream",
     "text": [
      "                 No test: [0.78947368 0.77114428]\n",
      "                   LOOCV: [0.78947368 0.76616915]\n"
     ]
    }
   ],
   "source": [
    "print(\"                 No test:\",check_lr(X,y)[0])\n",
    "print(\"                   LOOCV:\",loo_check(X,y))"
   ]
  },
  {
   "cell_type": "code",
   "execution_count": 10,
   "metadata": {},
   "outputs": [
    {
     "data": {
      "text/plain": [
       "array([ 630,  800, 2500, 5000])"
      ]
     },
     "execution_count": 10,
     "metadata": {},
     "output_type": "execute_result"
    }
   ],
   "source": [
    "f_names[inds]"
   ]
  }
 ],
 "metadata": {
  "kernelspec": {
   "display_name": "Python 3",
   "language": "python",
   "name": "python3"
  },
  "language_info": {
   "codemirror_mode": {
    "name": "ipython",
    "version": 3
   },
   "file_extension": ".py",
   "mimetype": "text/x-python",
   "name": "python",
   "nbconvert_exporter": "python",
   "pygments_lexer": "ipython3",
   "version": "3.8.10"
  }
 },
 "nbformat": 4,
 "nbformat_minor": 4
}
