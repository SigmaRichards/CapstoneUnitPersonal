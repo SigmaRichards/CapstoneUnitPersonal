{
 "cells": [
  {
   "cell_type": "code",
   "execution_count": 1,
   "metadata": {},
   "outputs": [],
   "source": [
    "import pandas as pd\n",
    "import numpy as np\n",
    "import matplotlib.pyplot as plt"
   ]
  },
  {
   "cell_type": "code",
   "execution_count": 2,
   "metadata": {},
   "outputs": [],
   "source": [
    "def get_sens_spec(y,pred):\n",
    "    tp = np.sum(np.logical_and(y,pred==y))\n",
    "    tn = np.sum(np.logical_and(1-y,pred==y))\n",
    "    fp = np.sum(np.logical_and(pred,pred!=y))\n",
    "    fn = np.sum(np.logical_and(1-pred,pred!=y))\n",
    "    \n",
    "    sens = tp/(tp+fn)\n",
    "    spec = tn/(tn+fp)\n",
    "    acc = (tp+tn)/(tp+tn+fp+fn)\n",
    "    prec = tp/(tp+fp)\n",
    "    return [sens,spec,acc,prec]"
   ]
  },
  {
   "cell_type": "code",
   "execution_count": 3,
   "metadata": {},
   "outputs": [],
   "source": [
    "#####-----    Essentially change this here so that X_raw is a\n",
    "#####-----    numpy array with all WBA frequencies and nothing else\n",
    "#####-----    y is all the overallPoF\n",
    "\n",
    "X_raw = pd.read_csv(\"./Data/OHE_Eth.csv\").iloc[:,1:17].to_numpy()\n",
    "y = pd.read_csv(\"./Data/OHE_Eth.csv\")[\"OverallPoF\"].to_numpy()"
   ]
  },
  {
   "cell_type": "code",
   "execution_count": 4,
   "metadata": {},
   "outputs": [],
   "source": [
    "from scipy.interpolate import CubicSpline\n",
    "x_sp = np.arange(16)\n",
    "\n",
    "cs=CubicSpline(x_sp,X_raw,axis=1)\n",
    "\n",
    "X_in = cs(x_sp,1)\n",
    "X_in2 = cs(x_sp,2)\n",
    "X_in3 = X_in2/((1+X_in**2)**(1.5))"
   ]
  },
  {
   "cell_type": "code",
   "execution_count": 5,
   "metadata": {},
   "outputs": [],
   "source": [
    "from sklearn.model_selection import train_test_split\n",
    "rs = 22\n",
    "tr,t = train_test_split([a for a in range(y.shape[0])],train_size=0.85,random_state=rs)"
   ]
  },
  {
   "cell_type": "code",
   "execution_count": 6,
   "metadata": {},
   "outputs": [],
   "source": [
    "from itertools import combinations\n",
    "def get_perms(size,num):\n",
    "    lis = [a for a in range(size)]\n",
    "    perms = list(combinations(lis,num+1))\n",
    "    out = [a[0] for a in perms]\n",
    "    return perms\n",
    "def get_all_perms(size):\n",
    "    lis = []\n",
    "    for a in range(size):\n",
    "        lis.append(get_perms(size,a))\n",
    "    return lis"
   ]
  },
  {
   "cell_type": "code",
   "execution_count": 7,
   "metadata": {},
   "outputs": [],
   "source": [
    "ps = get_all_perms(17)\n",
    "\n",
    "i1 = [9]\n",
    "\n",
    "inds = ps[3][1701]\n",
    "X = X_in[:,inds]\n",
    "X = np.hstack((X,X_raw[:,i1]))\n",
    "\n",
    "ind = ps[5][12076]\n",
    "X2 = X_in2[:,inds]\n",
    "X2 = np.hstack((X2,X_raw[:,i1]))\n",
    "\n",
    "ind = ps[5][12076]\n",
    "X2 = X_in2[:,inds]\n",
    "X2 = np.hstack((X2,X_raw[:,i1]))\n",
    "\n",
    "ind = ps[6][17432]\n",
    "X3 = X_in3[:,inds]\n",
    "X3 = np.hstack((X3,X_raw[:,i1]))"
   ]
  },
  {
   "cell_type": "code",
   "execution_count": 8,
   "metadata": {},
   "outputs": [
    {
     "name": "stdout",
     "output_type": "stream",
     "text": [
      "CSDY\n",
      "[0.7878787878787878, 0.7588235294117647, 0.7635467980295566, 0.3880597014925373]\n",
      "[0.8, 0.7741935483870968, 0.7777777777777778, 0.36363636363636365]\n"
     ]
    }
   ],
   "source": [
    "from sklearn.linear_model import LogisticRegression\n",
    "from sklearn.metrics import plot_roc_curve\n",
    "\n",
    "clf = LogisticRegression(C=2,class_weight=\"balanced\",\n",
    "                         l1_ratio=0,max_iter=1000,\n",
    "                         penalty='elasticnet',\n",
    "                         solver = 'saga')\n",
    "clf.fit(X[tr],y[tr])\n",
    "print(\"CSDY\")\n",
    "print(get_sens_spec(y[tr],clf.predict(X[tr])))\n",
    "print(get_sens_spec(y[t],clf.predict(X[t])))"
   ]
  },
  {
   "cell_type": "code",
   "execution_count": 9,
   "metadata": {},
   "outputs": [
    {
     "name": "stdout",
     "output_type": "stream",
     "text": [
      "CSDDY\n",
      "[0.696969696969697, 0.7647058823529411, 0.7536945812807881, 0.36507936507936506]\n",
      "[0.6, 0.7741935483870968, 0.75, 0.3]\n"
     ]
    }
   ],
   "source": [
    "from sklearn.linear_model import LogisticRegression\n",
    "from sklearn.metrics import plot_roc_curve\n",
    "\n",
    "clf = LogisticRegression(C=2,class_weight=\"balanced\",\n",
    "                         l1_ratio=0,max_iter=1000,\n",
    "                         penalty='elasticnet',\n",
    "                         solver = 'saga')\n",
    "clf.fit(X2[tr],y[tr])\n",
    "print(\"CSDDY\")\n",
    "print(get_sens_spec(y[tr],clf.predict(X2[tr])))\n",
    "print(get_sens_spec(y[t],clf.predict(X2[t])))"
   ]
  },
  {
   "cell_type": "code",
   "execution_count": 10,
   "metadata": {},
   "outputs": [
    {
     "name": "stdout",
     "output_type": "stream",
     "text": [
      "CSK\n",
      "[0.696969696969697, 0.7529411764705882, 0.7438423645320197, 0.35384615384615387]\n",
      "[0.6, 0.7741935483870968, 0.75, 0.3]\n"
     ]
    }
   ],
   "source": [
    "from sklearn.linear_model import LogisticRegression\n",
    "from sklearn.metrics import plot_roc_curve\n",
    "\n",
    "clf = LogisticRegression(C=2,class_weight=\"balanced\",\n",
    "                         l1_ratio=0,max_iter=1000,\n",
    "                         penalty='elasticnet',\n",
    "                         solver = 'saga')\n",
    "clf.fit(X3[tr],y[tr])\n",
    "print(\"CSK\")\n",
    "print(get_sens_spec(y[tr],clf.predict(X3[tr])))\n",
    "print(get_sens_spec(y[t],clf.predict(X3[t])))"
   ]
  }
 ],
 "metadata": {
  "kernelspec": {
   "display_name": "Python 3",
   "language": "python",
   "name": "python3"
  },
  "language_info": {
   "codemirror_mode": {
    "name": "ipython",
    "version": 3
   },
   "file_extension": ".py",
   "mimetype": "text/x-python",
   "name": "python",
   "nbconvert_exporter": "python",
   "pygments_lexer": "ipython3",
   "version": "3.8.10"
  }
 },
 "nbformat": 4,
 "nbformat_minor": 4
}
