{
 "cells": [
  {
   "cell_type": "code",
   "execution_count": 1,
   "metadata": {},
   "outputs": [],
   "source": [
    "import pandas as pd\n",
    "import numpy as np\n",
    "import matplotlib.pyplot as plt"
   ]
  },
  {
   "cell_type": "code",
   "execution_count": 2,
   "metadata": {},
   "outputs": [],
   "source": [
    "def get_sens_spec(y,pred):\n",
    "    tp = np.sum(np.logical_and(y,pred==y))\n",
    "    tn = np.sum(np.logical_and(1-y,pred==y))\n",
    "    fp = np.sum(np.logical_and(pred,pred!=y))\n",
    "    fn = np.sum(np.logical_and(1-pred,pred!=y))\n",
    "    \n",
    "    sens = tp/(tp+fn)\n",
    "    spec = tn/(tn+fp)\n",
    "    acc = (tp+tn)/(tp+tn+fp+fn)\n",
    "    prec = tp/(tp+fp)\n",
    "    return [sens,spec,acc,prec]"
   ]
  },
  {
   "cell_type": "code",
   "execution_count": 3,
   "metadata": {},
   "outputs": [],
   "source": [
    "table = pd.read_csv(\"./Data/OHE_Eth.csv\")"
   ]
  },
  {
   "cell_type": "code",
   "execution_count": 4,
   "metadata": {},
   "outputs": [],
   "source": [
    "X_in = pd.read_csv(\"./Data/OHE_Eth.csv\").iloc[:,1:17].to_numpy()\n",
    "y = pd.read_csv(\"./Data/OHE_Eth.csv\")[\"OverallPoF\"].to_numpy()"
   ]
  },
  {
   "cell_type": "code",
   "execution_count": 5,
   "metadata": {},
   "outputs": [],
   "source": [
    "def check_ind(X,y):\n",
    "    uqX = np.unique(X.flatten())\n",
    "    scores = []\n",
    "    for cv in uqX:\n",
    "        c_sc = get_sens_spec(y,X<=cv)\n",
    "        scores.append(c_sc)\n",
    "    scores = np.array(scores)[:,0:2]\n",
    "    sc2 = []\n",
    "    for a in np.unique(scores[:,0]):\n",
    "        sc2.append([a,np.max(scores[np.argwhere(scores[:,0]==a),1])])\n",
    "    sc2 = np.array(sc2)\n",
    "    sc3 = []\n",
    "    for a in np.flip(np.unique(sc2[:,1])):\n",
    "        sc3.append([np.max(sc2[np.argwhere(sc2[:,1]==a),0]),a])\n",
    "    sc3 = np.array(sc3)\n",
    "    av,bv = sc3[np.argmax(np.mean(sc3,axis=1))]\n",
    "    thres = uqX[np.argwhere(np.logical_and(scores[:,0]==av,scores[:,1]==bv))][0][0]\n",
    "    return sc3[np.argmax(np.mean(sc3,axis=1))],thres"
   ]
  },
  {
   "cell_type": "code",
   "execution_count": 6,
   "metadata": {},
   "outputs": [],
   "source": [
    "def loo_check(X,y):\n",
    "    inds = [a for a in range(len(X))]\n",
    "    preds = []\n",
    "    for a in inds:\n",
    "        inds2 = [v for v in inds if v != a]\n",
    "        X2 = X[inds2]\n",
    "        y2 = y[inds2]\n",
    "        sc,thres = check_ind(X2,y2)\n",
    "        pred = X[a]<=thres\n",
    "        preds.append(pred)\n",
    "    preds = np.array(preds,int)\n",
    "    score = get_sens_spec(y,preds)\n",
    "    score = np.array(score)\n",
    "    return score[0:2]"
   ]
  },
  {
   "cell_type": "code",
   "execution_count": 7,
   "metadata": {},
   "outputs": [
    {
     "name": "stdout",
     "output_type": "stream",
     "text": [
      "[0.71052632 0.76616915]\n",
      "[0.68421053 0.76616915]\n"
     ]
    }
   ],
   "source": [
    "ind = 9\n",
    "\n",
    "X = X_in[:,ind]\n",
    "print(check_ind(X,y)[0])\n",
    "print(loo_check(X,y))"
   ]
  },
  {
   "cell_type": "code",
   "execution_count": 8,
   "metadata": {},
   "outputs": [
    {
     "name": "stdout",
     "output_type": "stream",
     "text": [
      "250\n",
      "     [0.36842105 0.77114428]\n",
      "315\n",
      "     [0.52631579 0.63681592]\n",
      "400\n",
      "     [0.44736842 0.72139303]\n",
      "500\n",
      "     [0.65789474 0.53731343]\n",
      "630\n",
      "     [0.71052632 0.6119403 ]\n",
      "800\n",
      "     [0.68421053 0.74129353]\n",
      "1000\n",
      "     [0.63157895 0.84079602]\n",
      "1250\n",
      "     [0.57894737 0.90547264]\n",
      "1600\n",
      "     [0.68421053 0.76119403]\n",
      "2000\n",
      "     [0.71052632 0.76616915]\n",
      "2500\n",
      "     [0.78947368 0.44278607]\n",
      "3150\n",
      "     [0.42105263 0.89552239]\n",
      "4000\n",
      "     [0.57894737 0.75621891]\n",
      "5000\n",
      "     [0.39473684 0.81094527]\n",
      "6300\n",
      "     [0.18421053 0.91542289]\n",
      "8000\n",
      "     [0.28947368 0.79104478]\n"
     ]
    }
   ],
   "source": [
    "f_names = np.array([int(a[1:]) for a in list(pd.read_csv(\"./Data/OHE_Eth.csv\").iloc[:,1:17].columns)])\n",
    "for ind in range(16):\n",
    "    X = X_in[:,ind]\n",
    "    print(f_names[ind])\n",
    "    print(\"    \",check_ind(X,y)[0])"
   ]
  },
  {
   "cell_type": "code",
   "execution_count": null,
   "metadata": {},
   "outputs": [],
   "source": []
  }
 ],
 "metadata": {
  "kernelspec": {
   "display_name": "Python 3",
   "language": "python",
   "name": "python3"
  },
  "language_info": {
   "codemirror_mode": {
    "name": "ipython",
    "version": 3
   },
   "file_extension": ".py",
   "mimetype": "text/x-python",
   "name": "python",
   "nbconvert_exporter": "python",
   "pygments_lexer": "ipython3",
   "version": "3.8.10"
  }
 },
 "nbformat": 4,
 "nbformat_minor": 4
}
