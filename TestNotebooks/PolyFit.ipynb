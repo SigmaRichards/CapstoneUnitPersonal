{
 "cells": [
  {
   "cell_type": "code",
   "execution_count": 1,
   "metadata": {},
   "outputs": [],
   "source": [
    "import pandas as pd\n",
    "import numpy as np\n",
    "import matplotlib.pyplot as plt"
   ]
  },
  {
   "cell_type": "code",
   "execution_count": 2,
   "metadata": {},
   "outputs": [],
   "source": [
    "def get_sens_spec(y,pred):\n",
    "    tp = np.sum(np.logical_and(y,pred==y))\n",
    "    tn = np.sum(np.logical_and(1-y,pred==y))\n",
    "    fp = np.sum(np.logical_and(pred,pred!=y))\n",
    "    fn = np.sum(np.logical_and(1-pred,pred!=y))\n",
    "    \n",
    "    sens = tp/(tp+fn)\n",
    "    spec = tn/(tn+fp)\n",
    "    acc = (tp+tn)/(tp+tn+fp+fn)\n",
    "    return [sens,spec,acc]"
   ]
  },
  {
   "cell_type": "code",
   "execution_count": 3,
   "metadata": {},
   "outputs": [],
   "source": [
    "table = pd.read_csv(\"../Data/OHE_Eth.csv\")\n",
    "y = table[\"OverallPoF\"].to_numpy()\n",
    "X = table.iloc[:,1:17].to_numpy()"
   ]
  },
  {
   "cell_type": "code",
   "execution_count": 4,
   "metadata": {},
   "outputs": [],
   "source": [
    "from sklearn.linear_model import LinearRegression\n",
    "def poly_fit(vals,polysize):\n",
    "    xs = np.array([a for a in range(vals.shape[1])])\n",
    "    xfs = []\n",
    "    for a in range(1,polysize+1):\n",
    "        xfs.append(xs**a)\n",
    "    xfs = np.transpose(np.array(xfs))\n",
    "    \n",
    "    coefs = []\n",
    "    scores = []\n",
    "    for a in range(vals.shape[0]):\n",
    "        lin = LinearRegression()\n",
    "        lin.fit(xfs,vals[a])\n",
    "        score = lin.score(xfs,vals[a])\n",
    "        v = lin.coef_\n",
    "        v = np.hstack((v,lin.intercept_))\n",
    "        coefs.append(v)\n",
    "        scores.append(score)\n",
    "    coefs = np.array(coefs)\n",
    "    return coefs,np.mean(scores)"
   ]
  },
  {
   "cell_type": "code",
   "execution_count": 5,
   "metadata": {},
   "outputs": [
    {
     "data": {
      "text/plain": [
       "[<matplotlib.lines.Line2D at 0x7f6cb38b0460>]"
      ]
     },
     "execution_count": 5,
     "metadata": {},
     "output_type": "execute_result"
    },
    {
     "data": {
      "image/png": "[encoded data removed]",
      "text/plain": [
       "<Figure size 432x288 with 1 Axes>"
      ]
     },
     "metadata": {
      "needs_background": "light"
     },
     "output_type": "display_data"
    }
   ],
   "source": [
    "scores = []\n",
    "for a in range(1,18):\n",
    "    scores.append(poly_fit(X,a)[1])\n",
    "plt.plot(range(1,18),scores)"
   ]
  },
  {
   "cell_type": "code",
   "execution_count": 6,
   "metadata": {},
   "outputs": [
    {
     "data": {
      "text/plain": [
       "[0.24700641337571166,\n",
       " 0.6998243376565005,\n",
       " 0.8603826650608599,\n",
       " 0.8917213988897426,\n",
       " 0.9101875286984142,\n",
       " 0.9344972106617496,\n",
       " 0.9659363045544385,\n",
       " 0.9731150679372511,\n",
       " 0.9799575133555942,\n",
       " 0.986751938544136,\n",
       " 0.9916129023599997,\n",
       " 0.993131216938961,\n",
       " 0.9931163996249865,\n",
       " 0.99213268818912,\n",
       " 0.9918794904915166,\n",
       " 0.9732527804834165,\n",
       " 0.9823573425714893]"
      ]
     },
     "execution_count": 6,
     "metadata": {},
     "output_type": "execute_result"
    }
   ],
   "source": [
    "scores"
   ]
  },
  {
   "cell_type": "code",
   "execution_count": null,
   "metadata": {},
   "outputs": [],
   "source": []
  }
 ],
 "metadata": {
  "kernelspec": {
   "display_name": "Python 3",
   "language": "python",
   "name": "python3"
  },
  "language_info": {
   "codemirror_mode": {
    "name": "ipython",
    "version": 3
   },
   "file_extension": ".py",
   "mimetype": "text/x-python",
   "name": "python",
   "nbconvert_exporter": "python",
   "pygments_lexer": "ipython3",
   "version": "3.8.10"
  }
 },
 "nbformat": 4,
 "nbformat_minor": 4
}
